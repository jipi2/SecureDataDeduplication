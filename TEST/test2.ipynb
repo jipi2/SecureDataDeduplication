{
 "cells": [
  {
   "cell_type": "code",
   "execution_count": 5,
   "metadata": {},
   "outputs": [],
   "source": [
    "from umbral import SecretKey, Signer, encrypt, decrypt_original, generate_kfrags, reencrypt, decrypt_reencrypted, PublicKey"
   ]
  },
  {
   "cell_type": "markdown",
   "metadata": {},
   "source": [
    "# Proxy code"
   ]
  },
  {
   "cell_type": "code",
   "execution_count": 165,
   "metadata": {},
   "outputs": [],
   "source": [
    "alice_priv_key = SecretKey.random()\n",
    "alice_pub_key = alice_priv_key.public_key()\n",
    "\n",
    "alice_signing_key = SecretKey.random()\n",
    "alice_signer = Signer(alice_signing_key)\n",
    "alice_verifying_key = alice_signing_key.public_key()\n",
    "\n",
    "bob_priv_key = SecretKey.random()\n",
    "bob_pub_key = bob_priv_key.public_key()\n",
    "\n",
    "kfrags = generate_kfrags(delegating_sk=alice_priv_key,\n",
    "                         receiving_pk=bob_pub_key,\n",
    "                         signer=alice_signer,\n",
    "                         threshold=2,\n",
    "                         shares=2)\n",
    "\n",
    "# proxy trimite cheile catre bob si alice"
   ]
  },
  {
   "cell_type": "markdown",
   "metadata": {},
   "source": [
    "# Alice code"
   ]
  },
  {
   "cell_type": "code",
   "execution_count": 166,
   "metadata": {},
   "outputs": [],
   "source": [
    "# alice primeste perechea de chei\n",
    "\n",
    "plaintext = b'Proxy Re-encryption is cool!'\n",
    "capsule, ciphertext = encrypt(alice_pub_key, plaintext)\n",
    "\n",
    "#decrypt with alice private key\n",
    "# cleartext = decrypt_original(alice_priv_key, capsule, ciphertext)\n",
    "# print(str(cleartext, 'utf-8'))\n",
    "\n",
    "# Alice trimite catre proxy \"capsule\" si \"ciphertext\""
   ]
  },
  {
   "cell_type": "markdown",
   "metadata": {},
   "source": [
    "# Proxy Code\n"
   ]
  },
  {
   "cell_type": "code",
   "execution_count": 167,
   "metadata": {},
   "outputs": [],
   "source": [
    "cfrags = list()\n",
    "for kfrags in kfrags[:5]:\n",
    "    cfrag = reencrypt(capsule=capsule, kfrag=kfrags)\n",
    "    cfrags.append(cfrag)\n",
    "    \n",
    "# proxy trimite catre bob cfrags"
   ]
  },
  {
   "cell_type": "markdown",
   "metadata": {},
   "source": [
    "# Bob Code"
   ]
  },
  {
   "cell_type": "code",
   "execution_count": 168,
   "metadata": {},
   "outputs": [
    {
     "name": "stdout",
     "output_type": "stream",
     "text": [
      "Proxy Re-encryption is cool!\n"
     ]
    }
   ],
   "source": [
    "# bob primeste cfrags si cheile\n",
    "\n",
    "bob_cleartext = decrypt_reencrypted(receiving_sk=bob_priv_key,\n",
    "                                        delegating_pk=alice_pub_key,\n",
    "                                        capsule=capsule,\n",
    "                                        verified_cfrags=cfrags,\n",
    "                                        ciphertext=ciphertext)\n",
    "assert bob_cleartext == plaintext\n",
    "print(str(bob_cleartext, 'utf-8'))"
   ]
  },
  {
   "cell_type": "code",
   "execution_count": 184,
   "metadata": {},
   "outputs": [],
   "source": [
    "plaintext2 = b'Ana are mere'\n",
    "\n",
    "capsule2, ciphertext2 = encrypt(alice_pub_key, plaintext2)\n",
    "\n",
    "# cleartext = decrypt_original(alice_priv_key, capsule2, ciphertext2)\n",
    "# print(str(cleartext, 'utf-8'))"
   ]
  },
  {
   "cell_type": "code",
   "execution_count": 185,
   "metadata": {},
   "outputs": [],
   "source": [
    "\n",
    "kfrag = generate_kfrags(delegating_sk=alice_priv_key,\n",
    "                         receiving_pk=bob_pub_key,\n",
    "                         signer=alice_signer,\n",
    "                         threshold=1,\n",
    "                         shares=1)\n",
    "\n",
    "\n",
    "cfrags = list()\n",
    "\n",
    "cfrag = reencrypt(capsule=capsule2, kfrag=kfrag[0])\n",
    "cfrags.append(cfrag)\n",
    "\n"
   ]
  },
  {
   "cell_type": "code",
   "execution_count": 186,
   "metadata": {},
   "outputs": [
    {
     "name": "stdout",
     "output_type": "stream",
     "text": [
      "Ana are mere\n"
     ]
    }
   ],
   "source": [
    "bob_cleartext2 = decrypt_reencrypted(receiving_sk=bob_priv_key,\n",
    "                                        delegating_pk=alice_pub_key,\n",
    "                                        capsule=capsule2,\n",
    "                                        verified_cfrags=cfrags,\n",
    "                                        ciphertext=ciphertext2)\n",
    "assert bob_cleartext2 == plaintext2\n",
    "print(str(bob_cleartext2, 'utf-8'))"
   ]
  },
  {
   "cell_type": "code",
   "execution_count": 187,
   "metadata": {},
   "outputs": [
    {
     "name": "stdout",
     "output_type": "stream",
     "text": [
      "Test\n"
     ]
    }
   ],
   "source": [
    "plaintext3 = b'Test'\n",
    "\n",
    "capsule3, ciphertext3 = encrypt(alice_pub_key, plaintext3)\n",
    "\n",
    "# cleartext = decrypt_original(alice_priv_key, capsule2, ciphertext2)\n",
    "# print(str(cleartext, 'utf-8'))\n",
    "\n",
    "\n",
    "cleartext3 = decrypt_original(alice_priv_key, capsule3, ciphertext3)\n",
    "print(str(cleartext3, 'utf-8'))"
   ]
  },
  {
   "cell_type": "code",
   "execution_count": 188,
   "metadata": {},
   "outputs": [],
   "source": [
    "\n",
    "# kfrag = generate_kfrags(delegating_sk=alice_priv_key,\n",
    "#                          receiving_pk=bob_pub_key,\n",
    "#                          signer=alice_signer,\n",
    "#                          threshold=1,\n",
    "#                          shares=1)\n",
    "\n",
    "\n",
    "cfrags = list()\n",
    "\n",
    "cfrag = reencrypt(capsule=capsule3, kfrag=kfrag[0])\n",
    "cfrags.append(cfrag)\n",
    "\n"
   ]
  },
  {
   "cell_type": "code",
   "execution_count": 189,
   "metadata": {},
   "outputs": [
    {
     "name": "stdout",
     "output_type": "stream",
     "text": [
      "Test\n"
     ]
    }
   ],
   "source": [
    "bob_cleartext3 = decrypt_reencrypted(receiving_sk=bob_priv_key,\n",
    "                                        delegating_pk=alice_pub_key,\n",
    "                                        capsule=capsule3,\n",
    "                                        verified_cfrags=cfrags,\n",
    "                                        ciphertext=ciphertext3)\n",
    "assert bob_cleartext3 == plaintext3\n",
    "print(str(bob_cleartext3, 'utf-8'))"
   ]
  }
 ],
 "metadata": {
  "kernelspec": {
   "display_name": "ProxyEnv",
   "language": "python",
   "name": "python3"
  },
  "language_info": {
   "codemirror_mode": {
    "name": "ipython",
    "version": 3
   },
   "file_extension": ".py",
   "mimetype": "text/x-python",
   "name": "python",
   "nbconvert_exporter": "python",
   "pygments_lexer": "ipython3",
   "version": "3.11.5"
  }
 },
 "nbformat": 4,
 "nbformat_minor": 2
}
