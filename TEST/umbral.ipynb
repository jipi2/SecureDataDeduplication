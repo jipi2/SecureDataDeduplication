{
 "cells": [
  {
   "cell_type": "markdown",
   "metadata": {},
   "source": [
    "# Key Generation"
   ]
  },
  {
   "cell_type": "code",
   "execution_count": 6,
   "metadata": {},
   "outputs": [],
   "source": [
    "from umbral import SecretKey, Signer, encrypt, decrypt_original, generate_kfrags, reencrypt, decrypt_reencrypted, VerifiedCapsuleFrag"
   ]
  },
  {
   "cell_type": "code",
   "execution_count": 2,
   "metadata": {},
   "outputs": [],
   "source": [
    "alices_secret_key = SecretKey.random()\n",
    "alices_public_key = alices_secret_key.public_key()\n",
    "\n",
    "# alices_signing_key = SecretKey.random()\n",
    "# alices_signer = Signer(alices_signing_key)\n",
    "# alices_verifying_key = alices_signing_key.public_key()\n",
    "\n",
    "bobs_secret_key = SecretKey.random()\n",
    "bobs_public_key = bobs_secret_key.public_key()"
   ]
  },
  {
   "cell_type": "markdown",
   "metadata": {},
   "source": [
    "# Encryption\n"
   ]
  },
  {
   "cell_type": "code",
   "execution_count": 3,
   "metadata": {},
   "outputs": [
    {
     "name": "stdout",
     "output_type": "stream",
     "text": [
      "Proxy Re-encryption is cool!\n"
     ]
    }
   ],
   "source": [
    "plaintext = b'Proxy Re-encryption is cool!'\n",
    "capsule, ciphertext = encrypt(alices_public_key, plaintext)\n",
    "\n",
    "#decrypt with alice private key\n",
    "cleartext = decrypt_original(alices_secret_key, capsule, ciphertext)\n",
    "print(str(cleartext, 'utf-8'))"
   ]
  },
  {
   "cell_type": "markdown",
   "metadata": {},
   "source": [
    "# Re-Encryption Key Fragments"
   ]
  },
  {
   "cell_type": "code",
   "execution_count": 4,
   "metadata": {},
   "outputs": [
    {
     "name": "stdout",
     "output_type": "stream",
     "text": [
      "<class 'list'>\n",
      "2\n",
      "VerifiedKeyFrag:7e10ab22fb74e47b\n"
     ]
    }
   ],
   "source": [
    "user_signing_key = SecretKey.random()\n",
    "user_signer = Signer(user_signing_key)\n",
    "\n",
    "kfrags = generate_kfrags(delegating_sk=alices_secret_key,\n",
    "                         receiving_pk=bobs_public_key,\n",
    "                         signer=user_signer,\n",
    "                         threshold=2,\n",
    "                         shares=2)\n",
    "\n",
    "print(type(kfrags))\n",
    "print(len(kfrags)) \n",
    "print(kfrags[0])"
   ]
  },
  {
   "cell_type": "markdown",
   "metadata": {},
   "source": [
    "# Re-Encryption"
   ]
  },
  {
   "cell_type": "code",
   "execution_count": 8,
   "metadata": {},
   "outputs": [
    {
     "name": "stdout",
     "output_type": "stream",
     "text": [
      "VerifiedKeyFrag:7e10ab22fb74e47b\n",
      "VerifiedCapsuleFrag:0208a8b69d811b55\n",
      "b'\\x02\\x08\\xa8\\xb6\\x9d\\x81\\x1bU\\xed\\xb8b\\x14\\xc8\\xa4\\xa8\\x9b\\xebqj0\\r:\\xb6\\x1a\\xc7\\xfe`\\x1b\\xbf\\xb4\\x17\\x11/\\x02\\xa5v\\x04N\\xa1\\xb8{\\x1e\\x05\\x94\\x1b\\xd1$;m\\x99\\xc9\\xecE\\xfe\\x88\\xc51\\xb9\\xe1\\x1bE\\r\\x1dt@\\xe9~\\x10\\xab\"\\xfbt\\xe4{\\x15\\xc1y\\x83\\x19[:\\x8f\\xffs\\xbf}Of\\x0f`\\xcdt\\xaf\\xb8K\\x00\\x07\\x1a\\x03c@\\x85\\xd1T\\xdf\\xcc\\x97m\\x8d\\xe1\\xc9\\xa2FT[\\xc7\\xd7\\xe6\\xfab\\x08\\xfe\\xc6\\xa7\\'_\\xf9\\x06\\x802\\xb3\\x02\\x06c\\x90\\xe9x\\xff\\xdb\\xf1M6\\xd6\\x03\\xb1\\xab\\r\\xaa\\x01\\xd7\\xcc\\xc1\\xaf\\x85\\xf0U\\xb6\\xe7\\xb0\\xf4k\\x1a5Y\\x034\\x84j$\\x0b\\x8f\\x17H\\x96\\x9eW\\xb9\\xe1/\\xd9U\\x80\\x9c\\xcf\\x98\\x9b6@\\x18Q\\x97\\xf9\\x9f/\\x87y\\x06\\x03{A\\x1e\\xd7\\x07\\n_\\xef\\xe0P\\xc7F\\xf8\\xafV-\\xbf=\\xc62\\xce]y\\xe6\\xdc\\x02c{3\\n\\x93z\\x02R\\xb7\\xe9\\xf5\\x1a*\\x82\\xab\\xaap\\x9c\\x1c\\xd8f\\x94_R\\xb9Es|\\xa1H\\'lK\\x92\\xba~\\xa2\\xff\\x9c`ME\\xfem\\xba5\\xd0\\x81\\xa9K\\x90\\x8c\\xbf\\xecn:\\xaeQ)I\\xff\\xc2\\x9f\\x8b\\x8e\\xd8\\x1b/a+\\x89F\\xd4E\\xd1\\x1b\\xf4\\xaaF\\x8d\\xbb\\x05\\xf1>\\xb4\\\\\\x05z>\\xb0\\xcd\\x97\\x14\\xd9\\x88\\xe2g\\xc1\\x10\\xff^\\xec\\xb3\\x1d\\xae\\xac\\xbe\\x1f\\x9a\\x13Ni\\x865\\xbf`\\xab`y\\xf4\\xac\\xd0\\x15\\x03\\x8b\\xc3r\\x1bM\\xa0m\\t\\x0cY\\xce'\n",
      "VerifiedCapsuleFrag:0208a8b69d811b55\n",
      "VerifiedKeyFrag:2b175215a3af8686\n",
      "VerifiedCapsuleFrag:02334bcee6358e90\n",
      "b\"\\x023K\\xce\\xe65\\x8e\\x902q\\x1c9\\x88[\\xad\\xa1Z\\x8b:\\xd6fQ\\xbf`={|(\\xfa\\x06\\xa6:\\x8d\\x02fu\\xe0~\\x0b7\\x19\\xd6`\\xbd\\xa5\\xbe\\xfa3pr\\xf25\\x80-X\\xc0\\x8c\\x8a\\x8e}\\xa5\\xbf\\xf6\\xf4\\xf5\\xea+\\x17R\\x15\\xa3\\xaf\\x86\\x86S\\xfe\\xd5\\xcaa\\x92\\re}\\xfc\\x8b\\x9b\\xff\\xf3\\x1e\\x83/\\x0e\\xe1\\xf1\\xbbI\\xcf\\xc3\\x03c@\\x85\\xd1T\\xdf\\xcc\\x97m\\x8d\\xe1\\xc9\\xa2FT[\\xc7\\xd7\\xe6\\xfab\\x08\\xfe\\xc6\\xa7'_\\xf9\\x06\\x802\\xb3\\x03\\x17w\\x96\\x9b\\xb3\\x8e\\x107\\xeb# #\\xe9\\x0fp\\x1c\\x00\\xdd$\\xd2\\xaeC\\xa6\\x1b\\x036J\\xae\\xbc\\x98\\x13^\\x03[_v\\x12\\xce\\x98\\xd0\\x87t=\\xec\\x13\\xcc~\\x18LM\\xe78W\\xb2\\xb1I\\x95f'\\x7f>\\xd5Y!\\xfa\\x03$\\x9d\\xe1Bz\\xb0\\x18\\x1b\\x04_\\xce+\\x91\\x19\\x9c\\xa1\\xdb\\x87\\xe1\\x8dV#`wI\\r\\xd1\\xb8\\xfdP\\x05\\x13\\x03\\x89\\xdeo\\xebnj\\x7f\\xc30\\x08\\x05Rm^\\x98\\xfd\\xf8[\\xb5\\x83\\x80&\\x1e]\\xb4\\x9a \\xbd\\x0e@i\\xcda\\xc1D\\x0e\\x9f\\x10jn\\x06vMJ\\xcel\\x97\\xc5\\xaf\\\\4v\\xe7\\xec6%\\x930\\xe7\\x9b79\\x08\\xc6\\xddw1\\xf8 \\xf0T\\xc0N!P\\xcb\\x9aN\\xb5\\x1a\\xb3\\xcd_\\xe4L\\x1e\\x9a:\\x18NR\\xc9\\x8f\\x11\\x91\\xc1Od\\x95\\xb7a\\x12Z\\x02\\x7f\\xac\\x1a\\xac\\xe4\\xfa\\x02\\x0e_@\\xc2)z\\x90\\xc2-I\\x03:\\xa3q\\xd3\\x07\\xf9\"\n",
      "VerifiedCapsuleFrag:02334bcee6358e90\n"
     ]
    }
   ],
   "source": [
    "cfrags = list()\n",
    "for kfrag in kfrags:\n",
    "    print(kfrag)\n",
    "    cfrag = reencrypt(capsule=capsule, kfrag=kfrag)\n",
    "    cfrags.append(cfrag)\n",
    "    \n",
    "    print(cfrag)\n",
    "    print(cfrag.__bytes__())\n",
    "    new_cfrag = VerifiedCapsuleFrag.from_verified_bytes(cfrag.__bytes__())\n",
    "    print(new_cfrag)"
   ]
  },
  {
   "cell_type": "markdown",
   "metadata": {},
   "source": [
    "# Decryption by Blob"
   ]
  },
  {
   "cell_type": "code",
   "execution_count": 6,
   "metadata": {},
   "outputs": [
    {
     "name": "stdout",
     "output_type": "stream",
     "text": [
      "Proxy Re-encryption is cool!\n"
     ]
    }
   ],
   "source": [
    "bob_cleartext = decrypt_reencrypted(receiving_sk=bobs_secret_key,\n",
    "                                        delegating_pk=alices_public_key,\n",
    "                                        capsule=capsule,\n",
    "                                        verified_cfrags=cfrags,\n",
    "                                        ciphertext=ciphertext)\n",
    "assert bob_cleartext == plaintext\n",
    "print(str(bob_cleartext, 'utf-8'))"
   ]
  }
 ],
 "metadata": {
  "kernelspec": {
   "display_name": "ProxyEnv",
   "language": "python",
   "name": "python3"
  },
  "language_info": {
   "codemirror_mode": {
    "name": "ipython",
    "version": 3
   },
   "file_extension": ".py",
   "mimetype": "text/x-python",
   "name": "python",
   "nbconvert_exporter": "python",
   "pygments_lexer": "ipython3",
   "version": "3.11.5"
  }
 },
 "nbformat": 4,
 "nbformat_minor": 2
}
